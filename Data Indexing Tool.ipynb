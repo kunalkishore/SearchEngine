{
 "cells": [
  {
   "cell_type": "code",
   "execution_count": 2,
   "metadata": {
    "collapsed": true
   },
   "outputs": [],
   "source": [
    "import elasticsearch\n",
    "import sys\n",
    "import os"
   ]
  },
  {
   "cell_type": "code",
   "execution_count": 3,
   "metadata": {
    "collapsed": true
   },
   "outputs": [],
   "source": [
    "# Assuming the the data to be a news data\n",
    "# Assuming that the data is being read from a file which contains the following fields:\n",
    "# {\n",
    "# 'title':data\n",
    "# 'content':content\n",
    "# 'dop':date of publication\n",
    "# }"
   ]
  },
  {
   "cell_type": "code",
   "execution_count": 4,
   "metadata": {
    "collapsed": true
   },
   "outputs": [],
   "source": [
    "ES_HOST = {\"host\" : \"localhost\", \"port\" : 9200}\n",
    "INDEX_NAME = 'google'\n",
    "TYPE_NAME = 'news'\n",
    "ID_FIELD = 'newslink'"
   ]
  },
  {
   "cell_type": "code",
   "execution_count": 5,
   "metadata": {
    "collapsed": true
   },
   "outputs": [],
   "source": [
    "#initialize an ES client\n",
    "client=elasticsearch.Elasticsearch(hosts=[ES_HOST])"
   ]
  },
  {
   "cell_type": "code",
   "execution_count": 11,
   "metadata": {
    "collapsed": false
   },
   "outputs": [
    {
     "name": "stdout",
     "output_type": "stream",
     "text": [
      "Deleting google index...\n",
      "Response: {'acknowledged': True}\n"
     ]
    }
   ],
   "source": [
    "if client.indices.exists(INDEX_NAME):\n",
    "    print(\"Deleting %s index...\" %(INDEX_NAME))\n",
    "    res=client.indices.delete(index=INDEX_NAME)\n",
    "    print(\"Response: %s\"%(res))"
   ]
  },
  {
   "cell_type": "code",
   "execution_count": 8,
   "metadata": {
    "collapsed": false
   },
   "outputs": [],
   "source": [
    "requestBody = {\n",
    "    \"settings\":{\n",
    "        \"number_of_shards\": 1,\n",
    "        \"number_of_replicas\": 0\n",
    "    },\n",
    "    \"mappings\":{\n",
    "        TYPE_NAME:{\n",
    "            \"properties\":{\n",
    "                \"title\":{\n",
    "                    \"type\":\"string\"\n",
    "                },\n",
    "                \"article\":{\n",
    "                    \"type\":\"string\"\n",
    "                },\n",
    "                \"date\":{\n",
    "                    \"type\":\"date\",\n",
    "                    \"format\":\"dd-MM-YYYY\"\n",
    "                },\n",
    "                \"newsgenre\":{\n",
    "                    \"type\":\"string\"\n",
    "                },\n",
    "                \"newslink\":{\n",
    "                    \"type\":\"string\",\n",
    "                    \"index\":\"no\",\n",
    "                    \"include_in_all\":\"false\"\n",
    "                }\n",
    "            }\n",
    "        }\n",
    "    }\n",
    "}"
   ]
  },
  {
   "cell_type": "code",
   "execution_count": null,
   "metadata": {
    "collapsed": false
   },
   "outputs": [],
   "source": [
    "print(\"creating '%s' index...\" % (INDEX_NAME))\n",
    "res = client.indices.create(index=INDEX_NAME,body=requestBody)\n",
    "print(\" response: '%s'\" % (res))"
   ]
  },
  {
   "cell_type": "code",
   "execution_count": null,
   "metadata": {
    "collapsed": true
   },
   "outputs": [],
   "source": [
    "#Read from the file and do bulk uploading\n",
    "bulkData=[]\n",
    "with open('data.txt','r') as f:\n",
    "    rownum=0\n",
    "    for line in f:\n",
    "        actionDict={\n",
    "            \"index\":{\n",
    "                \"_index\":INDEX_NAME,\n",
    "                \"_type\":TYPE_NAME,\n",
    "                \"_id\":rownum\n",
    "            }\n",
    "        }\n",
    "        dataDict=eval(line.rstrip('\\n'))\n",
    "        bulkData.append(actionDict)\n",
    "        bulkData.append(dataDict)\n",
    "        rownum+=1\n"
   ]
  },
  {
   "cell_type": "code",
   "execution_count": null,
   "metadata": {
    "collapsed": true
   },
   "outputs": [],
   "source": [
    "# bulk index the data\n",
    "print(\"bulk indexing...\")\n",
    "res = es.bulk(index = INDEX_NAME, body = bulkData, refresh = True)"
   ]
  }
 ],
 "metadata": {
  "anaconda-cloud": {},
  "kernelspec": {
   "display_name": "Python [conda root]",
   "language": "python",
   "name": "conda-root-py"
  },
  "language_info": {
   "codemirror_mode": {
    "name": "ipython",
    "version": 3
   },
   "file_extension": ".py",
   "mimetype": "text/x-python",
   "name": "python",
   "nbconvert_exporter": "python",
   "pygments_lexer": "ipython3",
   "version": "3.5.2"
  }
 },
 "nbformat": 4,
 "nbformat_minor": 1
}
